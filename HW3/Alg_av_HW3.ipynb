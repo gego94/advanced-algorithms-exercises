{
  "nbformat": 4,
  "nbformat_minor": 0,
  "metadata": {
    "colab": {
      "name": "Alg_av_HW3.ipynb",
      "provenance": [],
      "collapsed_sections": [],
      "toc_visible": true
    },
    "kernelspec": {
      "name": "python3",
      "display_name": "Python 3"
    }
  },
  "cells": [
    {
      "cell_type": "markdown",
      "metadata": {
        "id": "Gcgi8Ne8FP2b",
        "colab_type": "text"
      },
      "source": [
        "# Importing the dependencies\n"
      ]
    },
    {
      "cell_type": "code",
      "metadata": {
        "id": "dWCGkynB7jyj",
        "colab_type": "code",
        "colab": {}
      },
      "source": [
        "from pathlib import Path\n",
        "from math import pi, cos, acos, sqrt, inf, log\n",
        "import time\n",
        "from google.colab import drive\n",
        "import random\n",
        "import os\n",
        "import matplotlib.pylab as plt\n",
        "%matplotlib inline\n",
        "import copy\n",
        "import pandas as pd\n",
        "import numpy as np\n",
        "import sys"
      ],
      "execution_count": null,
      "outputs": []
    },
    {
      "cell_type": "markdown",
      "metadata": {
        "id": "7fKC8toIFWFh",
        "colab_type": "text"
      },
      "source": [
        "# Notebook Configuration\n",
        "In order to execute this notebook on the dataset provided you need to upload the dataset folder zipped on google colab.  \n",
        "To do that click on the folder icon on the left of google colab and then on the upload button."
      ]
    },
    {
      "cell_type": "code",
      "metadata": {
        "id": "GDlJMFkb6VhG",
        "colab_type": "code",
        "colab": {
          "base_uri": "https://localhost:8080/",
          "height": 51
        },
        "outputId": "02640e64-e387-4fbe-95d1-ad5b8b332e0f"
      },
      "source": [
        "!unzip mincut_dataset.zip"
      ],
      "execution_count": null,
      "outputs": [
        {
          "output_type": "stream",
          "text": [
            "Archive:  mincut_dataset.zip\n",
            "replace output_random_10_25.txt? [y]es, [n]o, [A]ll, [N]one, [r]ename: "
          ],
          "name": "stdout"
        }
      ]
    },
    {
      "cell_type": "markdown",
      "metadata": {
        "id": "NAedExHILYpQ",
        "colab_type": "text"
      },
      "source": [
        "We define a time threshold in order to avoid execution times too long.  \n",
        "As default we decided to set it to two minutes"
      ]
    },
    {
      "cell_type": "code",
      "metadata": {
        "id": "Y8K6weSTKiW2",
        "colab_type": "code",
        "colab": {}
      },
      "source": [
        "timeout_threshold=inf"
      ],
      "execution_count": null,
      "outputs": []
    },
    {
      "cell_type": "markdown",
      "metadata": {
        "id": "qWQuLY7MF1SB",
        "colab_type": "text"
      },
      "source": [
        "# Definition of the algorithms"
      ]
    },
    {
      "cell_type": "markdown",
      "metadata": {
        "id": "2DBbYkLhF8IR",
        "colab_type": "text"
      },
      "source": [
        "We start by defining a simple algorithm which given the path to a text file containing the dataset returns:\n",
        "* The adiacence list of the graph\n",
        "* The number of iterations $k$ needed for the karger algorithm to obtain the correct solution with probability higher than $1-\\frac{1}{n}$\n",
        "* The number of nodes $n$"
      ]
    },
    {
      "cell_type": "code",
      "metadata": {
        "id": "BaDRPV9mF4bf",
        "colab_type": "code",
        "colab": {}
      },
      "source": [
        "def import_graph(dataset_path):\n",
        "  dataset = open(dataset_path,\"r\").read().split(\"\\n\")\n",
        "  n_nodes=len(dataset)\n",
        "  \n",
        "  adiacence_list={}\n",
        "  n=0\n",
        "  for node_data in dataset:\n",
        "    elements=node_data.split()\n",
        "    #Condition needed to avoid errors obtained by reaching the EOF\n",
        "    if len(elements)>0:\n",
        "      n=n+1\n",
        "      node_name=int(elements[0])\n",
        "      adiacence_list[node_name]=[]\n",
        "      for i in range(1,len(elements)):\n",
        "        adiacence_list[node_name].append(int(elements[i]))\n",
        "  k=int(((n**2)/2)*log(n))\n",
        "  return adiacence_list, k, n"
      ],
      "execution_count": null,
      "outputs": []
    },
    {
      "cell_type": "markdown",
      "metadata": {
        "id": "GpA3pw-GHgoj",
        "colab_type": "text"
      },
      "source": [
        "Then we proceed to define the _full_contraction_ algorithm which contracts the graph until we have two nodes by picking at random two nodes at each iteration."
      ]
    },
    {
      "cell_type": "code",
      "metadata": {
        "id": "wJA2r_LNHfky",
        "colab_type": "code",
        "colab": {}
      },
      "source": [
        "def full_contraction(graph):\n",
        "    while len(graph) > 2:\n",
        "         v = random.choice(list(graph.keys()))\n",
        "         w = random.choice(graph[v])\n",
        "         single_contraction(graph, v, w)\n",
        "    mincut = len(graph[list(graph.keys())[0]])\n",
        "    return mincut\n",
        "\n",
        "def single_contraction(graph, v, w):\n",
        "    for node in graph[w]:\n",
        "         if node != v:\n",
        "             graph[v].append(node)\n",
        "         graph[node].remove(w)\n",
        "         if node != v:\n",
        "              graph[node].append(v)\n",
        "    del graph[w] "
      ],
      "execution_count": null,
      "outputs": []
    },
    {
      "cell_type": "markdown",
      "metadata": {
        "id": "um3j7wnpIEZV",
        "colab_type": "text"
      },
      "source": [
        "Now we can implement the _karger_ algorithm which runs the previously defined _full_contraction_ algorithm $k$ times and returns the best solution found.  \n",
        "If $k=\\frac{n^2}{2}*ln(n)$ then the algorithm has a probability of $\\frac{1}{n}$ of not returning the correct solution."
      ]
    },
    {
      "cell_type": "code",
      "metadata": {
        "id": "bC5JHwxNIDyy",
        "colab_type": "code",
        "colab": {}
      },
      "source": [
        "def karger(graph, k):\n",
        "  min_cut=inf\n",
        "  starting_time=time.time()\n",
        "  discovery_time=0\n",
        "  contraction_time=0\n",
        "  for i in range(0,k):\n",
        "    if time.time()>starting_time+timeout_threshold:\n",
        "      break\n",
        "    graph_copy=copy.deepcopy(graph)\n",
        "    full_contraction_start_time=time.time()\n",
        "    cut=full_contraction(graph_copy)\n",
        "    contraction_time=contraction_time+(time.time()-full_contraction_start_time)\n",
        "    if cut<min_cut:\n",
        "      discovery_time=time.time()-starting_time\n",
        "      min_cut=cut\n",
        "  total_time=time.time()-starting_time\n",
        "  return discovery_time,contraction_time/k ,total_time, min_cut"
      ],
      "execution_count": null,
      "outputs": []
    },
    {
      "cell_type": "markdown",
      "metadata": {
        "id": "h_W1ZGljJC-M",
        "colab_type": "text"
      },
      "source": [
        "#Executing on the dataset"
      ]
    },
    {
      "cell_type": "markdown",
      "metadata": {
        "id": "UYTr6obAJFpo",
        "colab_type": "text"
      },
      "source": [
        "We can now proceed to run the algorithm on all the datasets.  \n",
        "To do that we define a method called _execute_all_ which also keeps track of the results and times of the single executions."
      ]
    },
    {
      "cell_type": "code",
      "metadata": {
        "id": "5E1M77EMJAxB",
        "colab_type": "code",
        "colab": {
          "base_uri": "https://localhost:8080/",
          "height": 120
        },
        "outputId": "e7c5a22f-7dcc-4941-eff8-3b3a07bc0afd"
      },
      "source": [
        "'''\n",
        "def execute_all():\n",
        "    results=[]\n",
        "    instruction_time=0\n",
        "    datasets=[el for el in os.listdir(Path().absolute()) if el.endswith(\".txt\")]\n",
        "\n",
        "    datasets.sort(key=lambda x: int(x.split(\"_\")[2]))\n",
        "\n",
        "    for dataset_name in datasets:\n",
        "    #dataset_name=\"input_random_21_100.txt\"\n",
        "        if dataset_name.startswith(\"input\"):\n",
        "            adiacence_list, k, n=import_graph(str(Path().absolute())+\"/\"+dataset_name)\n",
        "            print(\"Executing algorithm on dataset: \"+dataset_name+\" \"+str(k)+\" times\")\n",
        "            discovery_time, contraction_time ,total_time, min_cut=karger(adiacence_list, k)\n",
        "            output_file_name=\"output\"+dataset_name[5:]\n",
        "            correct_output=int(open(str(Path().absolute())+\"/\"+output_file_name,\"r\").read())\n",
        "            error=((min_cut-correct_output)/correct_output)*100\n",
        "            asintotic_full_contraction_time=n**2\n",
        "            asintotic_karger_time=(n**4)*log(n)\n",
        "            instruction_time+=total_time/asintotic_karger_time\n",
        "            results.append([dataset_name,n,k,min_cut,correct_output,error,discovery_time,\n",
        "                            asintotic_full_contraction_time,contraction_time,asintotic_karger_time,total_time\n",
        "                            ])\n",
        "    instruction_time=instruction_time/len(results)\n",
        "    for i in range(len(results)):\n",
        "\n",
        "        results[i][7]*=instruction_time\n",
        "        results[i][9]*=instruction_time\n",
        "\n",
        "    return results\n",
        "'''"
      ],
      "execution_count": null,
      "outputs": [
        {
          "output_type": "execute_result",
          "data": {
            "application/vnd.google.colaboratory.intrinsic": {
              "type": "string"
            },
            "text/plain": [
              "'\\ndef execute_all():\\n    results=[]\\n    instruction_time=0\\n    datasets=[el for el in os.listdir(Path().absolute()) if el.endswith(\".txt\")]\\n\\n    datasets.sort(key=lambda x: int(x.split(\"_\")[2]))\\n\\n    for dataset_name in datasets:\\n    #dataset_name=\"input_random_21_100.txt\"\\n        if dataset_name.startswith(\"input\"):\\n            adiacence_list, k, n=import_graph(str(Path().absolute())+\"/\"+dataset_name)\\n            print(\"Executing algorithm on dataset: \"+dataset_name+\" \"+str(k)+\" times\")\\n            discovery_time, contraction_time ,total_time, min_cut=karger(adiacence_list, k)\\n            output_file_name=\"output\"+dataset_name[5:]\\n            correct_output=int(open(str(Path().absolute())+\"/\"+output_file_name,\"r\").read())\\n            error=((min_cut-correct_output)/correct_output)*100\\n            asintotic_full_contraction_time=n**2\\n            asintotic_karger_time=(n**4)*log(n)\\n            instruction_time+=total_time/asintotic_karger_time\\n            results.append([dataset_name,n,k,min_cut,correct_output,error,discovery_time,\\n                            asintotic_full_contraction_time,contraction_time,asintotic_karger_time,total_time\\n                            ])\\n    instruction_time=instruction_time/len(results)\\n    for i in range(len(results)):\\n\\n        results[i][7]*=instruction_time\\n        results[i][9]*=instruction_time\\n\\n    return results\\n'"
            ]
          },
          "metadata": {
            "tags": []
          },
          "execution_count": 22
        }
      ]
    },
    {
      "cell_type": "code",
      "metadata": {
        "id": "D-PDh3zNaSX7",
        "colab_type": "code",
        "colab": {}
      },
      "source": [
        "def execute_all():\n",
        "    results=[]\n",
        "    datasets=[el for el in os.listdir(Path().absolute()) if el.endswith(\".txt\")]\n",
        "\n",
        "    datasets.sort(key=lambda x: int(x.split(\"_\")[2]))\n",
        "\n",
        "    for dataset_name in datasets:\n",
        "    #dataset_name=\"input_random_21_100.txt\"\n",
        "        if dataset_name.startswith(\"input\"):\n",
        "            adiacence_list, k, n=import_graph(str(Path().absolute())+\"/\"+dataset_name)\n",
        "            if n!=75:\n",
        "              continue\n",
        "            print(\"Executing algorithm on dataset: \"+dataset_name+\" \"+str(k)+\" times\")\n",
        "            discovery_time, contraction_time ,total_time, min_cut=karger(adiacence_list, k)\n",
        "            output_file_name=\"output\"+dataset_name[5:]\n",
        "            correct_output=int(open(str(Path().absolute())+\"/\"+output_file_name,\"r\").read())\n",
        "            error=((min_cut-correct_output)/correct_output)*100\n",
        "            asintotic_full_contraction_time=n**2\n",
        "            asintotic_karger_time=(n**4)*log(n)\n",
        "            results.append([dataset_name,n,k,min_cut,correct_output,error,discovery_time,\n",
        "                            asintotic_full_contraction_time,contraction_time,asintotic_karger_time,total_time\n",
        "                            ])\n",
        "            break\n",
        "    return results\n"
      ],
      "execution_count": null,
      "outputs": []
    },
    {
      "cell_type": "code",
      "metadata": {
        "id": "LYwYE4-sMBg1",
        "colab_type": "code",
        "colab": {
          "base_uri": "https://localhost:8080/",
          "height": 34
        },
        "outputId": "9d21bd52-3469-413c-da76-1cf22571845a"
      },
      "source": [
        "results=execute_all()"
      ],
      "execution_count": null,
      "outputs": [
        {
          "output_type": "stream",
          "text": [
            "Executing algorithm on dataset: input_random_17_75.txt 12142 times\n"
          ],
          "name": "stdout"
        }
      ]
    },
    {
      "cell_type": "markdown",
      "metadata": {
        "id": "WT_JBTnrJil8",
        "colab_type": "text"
      },
      "source": [
        "# Plotting the results"
      ]
    },
    {
      "cell_type": "code",
      "metadata": {
        "id": "UxU79C9PV39J",
        "colab_type": "code",
        "colab": {
          "base_uri": "https://localhost:8080/",
          "height": 79
        },
        "outputId": "d2fa8ba2-4703-4c9b-8188-283ec74d3220"
      },
      "source": [
        "header =[\n",
        "         'Dataset Name',\n",
        "         'Number of Nodes', \n",
        "         'Number of Iterations(K)',\n",
        "         'Solution Found',\n",
        "         'Optimal Solution',\n",
        "         'Error(%)',\n",
        "         \"Discovery Time\",\n",
        "         \"Asintotic Contraction Time\",\n",
        "         \"Avg Contraction Time\",\n",
        "         \"Asintotic Karger Time\",\n",
        "         \"Total Time\"\n",
        "]\n",
        "table_properties = {\n",
        "    'font-size': '10pt',\n",
        "    'border-color': 'black',\n",
        "    'border-style' :'solid' ,\n",
        "    'border-width': '1px',\n",
        "    'padding': '5px',\n",
        "    'text-align': 'center'\n",
        "}\n",
        "header_properties = [{'selector': 'th', \n",
        "                      'props': [\n",
        "                                ('font-size', '10pt'),\n",
        "                                ('padding-top', '5px'),\n",
        "                                ('padding-bottom', '5px'),\n",
        "                                ('padding-left', '5px'),\n",
        "                                ('padding-right', '5px'),\n",
        "                                ('border-color', 'black'),\n",
        "                                ('border-style' ,'solid') ,\n",
        "                                ('border-width', '1px'),\n",
        "                                (\"word-wrap\",\"break-word\")\n",
        "                      ]\n",
        "}]\n",
        "\n",
        "df = pd.DataFrame(results, columns=header).style.set_properties(**table_properties).set_table_styles(header_properties).hide_index()\n",
        "\n",
        "df"
      ],
      "execution_count": null,
      "outputs": [
        {
          "output_type": "execute_result",
          "data": {
            "text/html": [
              "<style  type=\"text/css\" >\n",
              "    #T_a1ec136c_badc_11ea_9b43_0242ac1c0002 th {\n",
              "          font-size: 10pt;\n",
              "          padding-top: 5px;\n",
              "          padding-bottom: 5px;\n",
              "          padding-left: 5px;\n",
              "          padding-right: 5px;\n",
              "          border-color: black;\n",
              "          border-style: solid;\n",
              "          border-width: 1px;\n",
              "          word-wrap: break-word;\n",
              "    }    #T_a1ec136c_badc_11ea_9b43_0242ac1c0002row0_col0 {\n",
              "            font-size:  10pt;\n",
              "            border-color:  black;\n",
              "            border-style:  solid;\n",
              "            border-width:  1px;\n",
              "            padding:  5px;\n",
              "            text-align:  center;\n",
              "        }    #T_a1ec136c_badc_11ea_9b43_0242ac1c0002row0_col1 {\n",
              "            font-size:  10pt;\n",
              "            border-color:  black;\n",
              "            border-style:  solid;\n",
              "            border-width:  1px;\n",
              "            padding:  5px;\n",
              "            text-align:  center;\n",
              "        }    #T_a1ec136c_badc_11ea_9b43_0242ac1c0002row0_col2 {\n",
              "            font-size:  10pt;\n",
              "            border-color:  black;\n",
              "            border-style:  solid;\n",
              "            border-width:  1px;\n",
              "            padding:  5px;\n",
              "            text-align:  center;\n",
              "        }    #T_a1ec136c_badc_11ea_9b43_0242ac1c0002row0_col3 {\n",
              "            font-size:  10pt;\n",
              "            border-color:  black;\n",
              "            border-style:  solid;\n",
              "            border-width:  1px;\n",
              "            padding:  5px;\n",
              "            text-align:  center;\n",
              "        }    #T_a1ec136c_badc_11ea_9b43_0242ac1c0002row0_col4 {\n",
              "            font-size:  10pt;\n",
              "            border-color:  black;\n",
              "            border-style:  solid;\n",
              "            border-width:  1px;\n",
              "            padding:  5px;\n",
              "            text-align:  center;\n",
              "        }    #T_a1ec136c_badc_11ea_9b43_0242ac1c0002row0_col5 {\n",
              "            font-size:  10pt;\n",
              "            border-color:  black;\n",
              "            border-style:  solid;\n",
              "            border-width:  1px;\n",
              "            padding:  5px;\n",
              "            text-align:  center;\n",
              "        }    #T_a1ec136c_badc_11ea_9b43_0242ac1c0002row0_col6 {\n",
              "            font-size:  10pt;\n",
              "            border-color:  black;\n",
              "            border-style:  solid;\n",
              "            border-width:  1px;\n",
              "            padding:  5px;\n",
              "            text-align:  center;\n",
              "        }    #T_a1ec136c_badc_11ea_9b43_0242ac1c0002row0_col7 {\n",
              "            font-size:  10pt;\n",
              "            border-color:  black;\n",
              "            border-style:  solid;\n",
              "            border-width:  1px;\n",
              "            padding:  5px;\n",
              "            text-align:  center;\n",
              "        }    #T_a1ec136c_badc_11ea_9b43_0242ac1c0002row0_col8 {\n",
              "            font-size:  10pt;\n",
              "            border-color:  black;\n",
              "            border-style:  solid;\n",
              "            border-width:  1px;\n",
              "            padding:  5px;\n",
              "            text-align:  center;\n",
              "        }    #T_a1ec136c_badc_11ea_9b43_0242ac1c0002row0_col9 {\n",
              "            font-size:  10pt;\n",
              "            border-color:  black;\n",
              "            border-style:  solid;\n",
              "            border-width:  1px;\n",
              "            padding:  5px;\n",
              "            text-align:  center;\n",
              "        }    #T_a1ec136c_badc_11ea_9b43_0242ac1c0002row0_col10 {\n",
              "            font-size:  10pt;\n",
              "            border-color:  black;\n",
              "            border-style:  solid;\n",
              "            border-width:  1px;\n",
              "            padding:  5px;\n",
              "            text-align:  center;\n",
              "        }</style><table id=\"T_a1ec136c_badc_11ea_9b43_0242ac1c0002\" ><thead>    <tr>        <th class=\"col_heading level0 col0\" >Dataset Name</th>        <th class=\"col_heading level0 col1\" >Number of Nodes</th>        <th class=\"col_heading level0 col2\" >Number of Iterations(K)</th>        <th class=\"col_heading level0 col3\" >Solution Found</th>        <th class=\"col_heading level0 col4\" >Optimal Solution</th>        <th class=\"col_heading level0 col5\" >Error(%)</th>        <th class=\"col_heading level0 col6\" >Discovery Time</th>        <th class=\"col_heading level0 col7\" >Asintotic Contraction Time</th>        <th class=\"col_heading level0 col8\" >Avg Contraction Time</th>        <th class=\"col_heading level0 col9\" >Asintotic Karger Time</th>        <th class=\"col_heading level0 col10\" >Total Time</th>    </tr></thead><tbody>\n",
              "                <tr>\n",
              "                                <td id=\"T_a1ec136c_badc_11ea_9b43_0242ac1c0002row0_col0\" class=\"data row0 col0\" >input_random_17_75.txt</td>\n",
              "                        <td id=\"T_a1ec136c_badc_11ea_9b43_0242ac1c0002row0_col1\" class=\"data row0 col1\" >75</td>\n",
              "                        <td id=\"T_a1ec136c_badc_11ea_9b43_0242ac1c0002row0_col2\" class=\"data row0 col2\" >12142</td>\n",
              "                        <td id=\"T_a1ec136c_badc_11ea_9b43_0242ac1c0002row0_col3\" class=\"data row0 col3\" >19</td>\n",
              "                        <td id=\"T_a1ec136c_badc_11ea_9b43_0242ac1c0002row0_col4\" class=\"data row0 col4\" >19</td>\n",
              "                        <td id=\"T_a1ec136c_badc_11ea_9b43_0242ac1c0002row0_col5\" class=\"data row0 col5\" >0.000000</td>\n",
              "                        <td id=\"T_a1ec136c_badc_11ea_9b43_0242ac1c0002row0_col6\" class=\"data row0 col6\" >3.721950</td>\n",
              "                        <td id=\"T_a1ec136c_badc_11ea_9b43_0242ac1c0002row0_col7\" class=\"data row0 col7\" >5625</td>\n",
              "                        <td id=\"T_a1ec136c_badc_11ea_9b43_0242ac1c0002row0_col8\" class=\"data row0 col8\" >0.017407</td>\n",
              "                        <td id=\"T_a1ec136c_badc_11ea_9b43_0242ac1c0002row0_col9\" class=\"data row0 col9\" >136608022.342360</td>\n",
              "                        <td id=\"T_a1ec136c_badc_11ea_9b43_0242ac1c0002row0_col10\" class=\"data row0 col10\" >229.665300</td>\n",
              "            </tr>\n",
              "    </tbody></table>"
            ],
            "text/plain": [
              "<pandas.io.formats.style.Styler at 0x7f078ae2ec50>"
            ]
          },
          "metadata": {
            "tags": []
          },
          "execution_count": 25
        }
      ]
    },
    {
      "cell_type": "code",
      "metadata": {
        "id": "EoGkvf6jfUhF",
        "colab_type": "code",
        "colab": {}
      },
      "source": [
        "'''\n",
        "for row in results:\n",
        "  row[7]/=fc_asintotic_regularizer\n",
        "  row[9]/=k_asintotic_regularizer\n",
        "'''\n",
        "\n",
        "fc_asintotic_regularizer=10**(-6)\n",
        "k_asintotic_regularizer=10**(-5)\n",
        "for row in results:\n",
        "  row[7]*=fc_asintotic_regularizer\n",
        "  row[9]*=k_asintotic_regularizer"
      ],
      "execution_count": null,
      "outputs": []
    },
    {
      "cell_type": "code",
      "metadata": {
        "id": "RVrBdxd_L_bT",
        "colab_type": "code",
        "colab": {}
      },
      "source": [
        "average_times_contraction={}\n",
        "average_times_karger={}\n",
        "\n",
        "asintotic_times_contraction={}\n",
        "asintotic_times_karger={}\n",
        "\n",
        "for i in range(len(results)):\n",
        "  if results[i][1] not in average_times_contraction:\n",
        "    average_times_contraction[results[i][1]]=[]\n",
        "    average_times_karger[results[i][1]]=[]\n",
        "    asintotic_times_contraction[results[i][1]]=[]\n",
        "    asintotic_times_karger[results[i][1]]=[]\n",
        "\n",
        "  average_times_contraction[results[i][1]].append(results[i][8])\n",
        "  average_times_karger[results[i][1]].append(results[i][10])\n",
        "  asintotic_times_contraction[results[i][1]].append(results[i][7])\n",
        "  asintotic_times_karger[results[i][1]].append(results[i][9])\n",
        "\n",
        "for i in average_times_karger.keys():\n",
        "  average_times_contraction[i]=sum(average_times_contraction[i])/len(average_times_contraction[i])\n",
        "  average_times_karger[i]=sum(average_times_karger[i])/len(average_times_karger[i])\n",
        "  asintotic_times_contraction[i]=sum(asintotic_times_contraction[i])/len(asintotic_times_contraction[i])\n",
        "  asintotic_times_karger[i]=sum(asintotic_times_karger[i])/len(asintotic_times_karger[i])\n"
      ],
      "execution_count": null,
      "outputs": []
    },
    {
      "cell_type": "code",
      "metadata": {
        "id": "_e5nn7krRgvk",
        "colab_type": "code",
        "colab": {}
      },
      "source": [
        "keys=list(average_times_contraction.keys())\n",
        "keys.sort()\n",
        "average_times_contraction_values=[]\n",
        "average_times_karger_values=[]\n",
        "asintotic_times_contraction_values=[]\n",
        "asintotic_times_karger_values=[]\n",
        "\n",
        "for k in keys:\n",
        "  average_times_contraction_values.append(average_times_contraction[k])\n",
        "  average_times_karger_values.append(average_times_karger[k])\n",
        "  asintotic_times_contraction_values.append(asintotic_times_contraction[k])\n",
        "  asintotic_times_karger_values.append(asintotic_times_karger[k])"
      ],
      "execution_count": null,
      "outputs": []
    },
    {
      "cell_type": "code",
      "metadata": {
        "id": "u8Bbl-jWfrKU",
        "colab_type": "code",
        "colab": {
          "base_uri": "https://localhost:8080/",
          "height": 34
        },
        "outputId": "eeddc8f7-7adb-485c-b7e1-2ba2d0b5da17"
      },
      "source": [
        "average_times_contraction_values"
      ],
      "execution_count": null,
      "outputs": [
        {
          "output_type": "execute_result",
          "data": {
            "text/plain": [
              "[0.017406605786653588]"
            ]
          },
          "metadata": {
            "tags": []
          },
          "execution_count": 29
        }
      ]
    },
    {
      "cell_type": "code",
      "metadata": {
        "id": "hrDeyI5iOk3X",
        "colab_type": "code",
        "colab": {
          "base_uri": "https://localhost:8080/",
          "height": 514
        },
        "outputId": "263b8739-24bd-444a-fd85-eff3bc31bf4c"
      },
      "source": [
        "fig, ax = plt.subplots(nrows=1, ncols=2)\n",
        "ax1,ax2=ax\n",
        "\n",
        "fig.set_figwidth(24)\n",
        "fig.set_figheight(8)\n",
        "\n",
        "ax1.plot(keys, average_times_contraction_values,label=\"Avg Time for full contraction\")\n",
        "ax1.scatter(keys, average_times_contraction_values)\n",
        "ax1.plot(keys, asintotic_times_contraction_values, label=\"Avg Asintotic Time for Full Contraction\")\n",
        "ax1.scatter(keys, asintotic_times_contraction_values)\n",
        "\n",
        "ax2.plot(keys, average_times_karger_values, label=\"Avg Time for Karger\")\n",
        "ax2.scatter(keys, average_times_karger_values)\n",
        "ax2.plot(keys, asintotic_times_karger_values, label=\"Avg Asintotic Time for Karger\")\n",
        "ax2.scatter(keys, asintotic_times_karger_values)\n",
        "\n",
        "ax1.set_title(\"Average Execution Times of Full Contraction\")\n",
        "ax1.set_xlabel(\"n_nodes\")\n",
        "ax1.set_ylabel(\"Time in seconds\")\n",
        "ax1.legend()\n",
        "\n",
        "ax2.set_title(\"Average Execution Times of Karger\")\n",
        "ax2.set_xlabel(\"n_nodes\")\n",
        "ax2.set_ylabel(\"Time in seconds\")\n",
        "ax2.legend()\n",
        "\n",
        "fig.show()"
      ],
      "execution_count": null,
      "outputs": [
        {
          "output_type": "display_data",
          "data": {
            "image/png": "[encoded data removed]",
            "text/plain": [
              "<Figure size 1728x576 with 2 Axes>"
            ]
          },
          "metadata": {
            "tags": [],
            "needs_background": "light"
          }
        }
      ]
    }
  ]
}